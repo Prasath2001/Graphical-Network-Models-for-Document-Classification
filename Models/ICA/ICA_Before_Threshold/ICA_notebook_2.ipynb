{
 "cells": [
  {
   "cell_type": "code",
   "execution_count": 1,
   "metadata": {},
   "outputs": [],
   "source": [
    "import sys\n",
    "import pickle\n",
    "import numpy as np\n",
    "import pandas as pd\n",
    "import networkx as nx\n",
    "import seaborn as sns\n",
    "from sklearn import metrics\n",
    "from sklearn.naive_bayes import GaussianNB\n",
    "from sklearn.model_selection import train_test_split # Import train_test_split function\n",
    "from sklearn.metrics import confusion_matrix"
   ]
  },
  {
   "cell_type": "code",
   "execution_count": 2,
   "metadata": {},
   "outputs": [],
   "source": [
    "#loading the feature matrix and labels \n",
    "feature_matrix = np.load('D:/NLP Project/Data/feature_matrix.npy')\n",
    "class_labels = np.load('D:/NLP Project/Data/class_lables.npy')\n",
    "indices = np.arange(len(feature_matrix))"
   ]
  },
  {
   "cell_type": "code",
   "execution_count": 3,
   "metadata": {},
   "outputs": [],
   "source": [
    "graph_df = pd.read_csv('D:/NLP Project/Data/edge_list.csv')\n",
    "#loading the edgelist and constructing the url graph\n",
    "g = nx.from_pandas_edgelist(graph_df,'url1','url2',edge_attr='edge_weight')"
   ]
  },
  {
   "cell_type": "code",
   "execution_count": 7,
   "metadata": {},
   "outputs": [
    {
     "data": {
      "text/plain": [
       "17601"
      ]
     },
     "execution_count": 7,
     "metadata": {},
     "output_type": "execute_result"
    }
   ],
   "source": [
    "nodes = list(g.nodes)\n",
    "len(nodes)"
   ]
  },
  {
   "cell_type": "code",
   "execution_count": 8,
   "metadata": {},
   "outputs": [],
   "source": [
    "iter_labels = class_labels #making a copy of class labels for updations during iteration\n",
    "# Contains true labels of all documents."
   ]
  },
  {
   "cell_type": "code",
   "execution_count": 9,
   "metadata": {},
   "outputs": [
    {
     "data": {
      "text/plain": [
       "(array([0, 1, 2, 3]), array([4440, 4236, 5143, 3782], dtype=int64))"
      ]
     },
     "execution_count": 9,
     "metadata": {},
     "output_type": "execute_result"
    }
   ],
   "source": [
    "np.unique(class_labels,return_counts=True)"
   ]
  },
  {
   "cell_type": "code",
   "execution_count": 10,
   "metadata": {},
   "outputs": [
    {
     "data": {
      "text/plain": [
       "'Graph with 17601 nodes and 45259074 edges'"
      ]
     },
     "execution_count": 10,
     "metadata": {},
     "output_type": "execute_result"
    }
   ],
   "source": [
    "nx.info(g)"
   ]
  },
  {
   "cell_type": "markdown",
   "metadata": {},
   "source": [
    "### Model 1 : Naive Bayes"
   ]
  },
  {
   "cell_type": "code",
   "execution_count": 11,
   "metadata": {},
   "outputs": [
    {
     "name": "stdout",
     "output_type": "stream",
     "text": [
      "For test size:  0.8\n",
      "For test size:  0.6\n",
      "For test size:  0.4\n",
      "For test size:  0.2\n"
     ]
    }
   ],
   "source": [
    "testSize = [0.8,0.6,0.4,0.2]\n",
    "accuracy_list_NB = []\n",
    "precision_list_NB = []\n",
    "recall_list_NB = []\n",
    "conf_mat_NB = []\n",
    "\n",
    "#loading the feature matrix and labels \n",
    "feature_matrix = np.load('D:/NLP Project/Data/feature_matrix.npy')\n",
    "class_labels = np.load('D:/NLP Project/Data/class_lables.npy')\n",
    "indices = np.arange(len(feature_matrix))\n",
    "\n",
    "for k in testSize:\n",
    "    print('For test size: ',k)\n",
    "    X_train, X_test, y_train, y_test = train_test_split(feature_matrix, class_labels,test_size=k, random_state=2, stratify=class_labels)\n",
    "    clf = GaussianNB() # Bootstrapping using Naive Bayes as Base Classifier\n",
    "    clf.fit(X_train,y_train)\n",
    "    y_pred = clf.predict(X_test)\n",
    "    confusion_mat = confusion_matrix(y_test,y_pred)\n",
    "\n",
    "    conf_mat_NB.append(confusion_mat)\n",
    "    accuracy_list_NB.append(metrics.accuracy_score(y_test,y_pred))\n",
    "    precision_list_NB.append(metrics.precision_score(y_test,y_pred,average='macro',zero_division=0))\n",
    "    recall_list_NB.append(metrics.recall_score(y_test,y_pred,average='macro'))\n",
    "\n",
    "    # Micro\n",
    "    precision_list_NB.append(metrics.precision_score(y_test,y_pred,average='micro',zero_division=0))\n",
    "    recall_list_NB.append(metrics.recall_score(y_test,y_pred,average='micro'))\n"
   ]
  },
  {
   "cell_type": "code",
   "execution_count": 12,
   "metadata": {},
   "outputs": [
    {
     "name": "stdout",
     "output_type": "stream",
     "text": [
      "['0.66', '0.64', '0.65', '0.65']\n",
      "['0.66', '0.66', '0.65', '0.64', '0.68', '0.65', '0.68', '0.65']\n",
      "['0.66', '0.66', '0.65', '0.64', '0.67', '0.65', '0.67', '0.65']\n",
      "[array([[2390,  427,  588,  147],\n",
      "       [ 524, 2020,  457,  388],\n",
      "       [ 942,  604, 2403,  165],\n",
      "       [  61,  422,  127, 2416]], dtype=int64), array([[2012,  182,  310,  160],\n",
      "       [ 536, 1280,  264,  462],\n",
      "       [1040,  236, 1594,  216],\n",
      "       [  51,  246,   71, 1901]], dtype=int64), array([[1442,   82,  114,  138],\n",
      "       [ 353,  795,  135,  412],\n",
      "       [ 751,  131, 1000,  175],\n",
      "       [  22,  110,   25, 1356]], dtype=int64), array([[720,  32,  65,  71],\n",
      "       [173, 402,  61, 211],\n",
      "       [387,  65, 478,  99],\n",
      "       [  8,  31,  14, 704]], dtype=int64)]\n"
     ]
    }
   ],
   "source": [
    "accuracy_list_NB = [\"%.2f\" % elem for elem in accuracy_list_NB]\n",
    "precision_list_NB = [\"%.2f\" % elem for elem in precision_list_NB]\n",
    "recall_list_NB = [\"%.2f\" % elem for elem in recall_list_NB]\n",
    "\n",
    "print(accuracy_list_NB)\n",
    "print(precision_list_NB)\n",
    "print(recall_list_NB)\n",
    "print(conf_mat_NB)"
   ]
  },
  {
   "cell_type": "markdown",
   "metadata": {},
   "source": [
    "### Model 1 : ICA - NB with Label Counts"
   ]
  },
  {
   "cell_type": "code",
   "execution_count": 13,
   "metadata": {},
   "outputs": [
    {
     "name": "stdout",
     "output_type": "stream",
     "text": [
      "For test size:  0.8\n",
      "For test size:  0.6\n",
      "For test size:  0.4\n",
      "For test size:  0.2\n"
     ]
    }
   ],
   "source": [
    "##Bootstrapping\n",
    "testSize = [0.8,0.6,0.4,0.2]\n",
    "accuracy_list_ICA_Labels = []\n",
    "precision_list_ICA_Labels = []\n",
    "recall_list_ICA_Labels = []\n",
    "conf_mat_ICA_Labels = []\n",
    "\n",
    "feature_matrix = np.load('D:/NLP Project/Data/feature_matrix.npy')\n",
    "class_labels = np.load('D:/NLP Project/Data/class_lables.npy')\n",
    "indices = np.arange(len(feature_matrix))\n",
    "\n",
    "for k in testSize:\n",
    "    print('For test size: ',k)\n",
    "    X_train, X_test, y_train, y_test,idx_train,idx_test = train_test_split(feature_matrix, class_labels, indices,test_size=k, random_state=2, stratify=class_labels)\n",
    "    clf = GaussianNB() # Bootstrapping using Naive Bayes as Base Classifier\n",
    "    clf.fit(X_train,y_train)\n",
    "    y_pred = clf.predict(X_test) # y-pred is bootstrapped labels\n",
    "    iter_labels = class_labels\n",
    "    np.put(iter_labels,idx_test,y_pred)  # updating labels of test data with the predecited labels \n",
    "    iter_labels_list = list(iter_labels)\n",
    "    distinct_labels = sorted(list(set(iter_labels_list)))\n",
    "\n",
    "    # ICA starting\n",
    "\n",
    "    adj_feats_train = np.zeros((len(X_train),len(distinct_labels)))\n",
    "    adj_feats_test  = np.zeros((len(X_test),len(distinct_labels)))\n",
    "\n",
    "    ########################################################################\n",
    "    ##constructing additional features, train and Iterate until stabilized##\n",
    "\n",
    "    #updating the adjacent features for training nodes\n",
    "    for i in range(len(idx_train)):\n",
    "        adjs = list(g[idx_train[i]])\n",
    "        adjs = [int(nei) for nei in adjs]\n",
    "        labels_of_adjacent_nodes = [iter_labels_list[nei] for nei in adjs]\n",
    "\n",
    "        for j in range(len(distinct_labels)):\n",
    "            this_label = distinct_labels[j]\n",
    "            cnt_of_adjacent_labels = labels_of_adjacent_nodes.count(this_label) ## Voting by neighbor nodes.\n",
    "            adj_feats_train[i][this_label] = cnt_of_adjacent_labels\n",
    "        \n",
    "          \n",
    "    X_train_updated = np.concatenate((X_train,adj_feats_train),axis = 1)\n",
    "\n",
    "    #updating the adjancent features for test nodes\n",
    "    for i in range(len(idx_test)):\n",
    "        adjs = list(g[idx_test[i]])\n",
    "        adjs = [int(nei) for nei in adjs]\n",
    "        labels_of_adjacent_nodes = [iter_labels_list[nei] for nei in adjs]\n",
    "\n",
    "        for j in range(len(distinct_labels)):\n",
    "            this_label = distinct_labels[j]\n",
    "            cnt_of_adjacent_labels = labels_of_adjacent_nodes.count(this_label) ## Voting by neighbor nodes.\n",
    "            adj_feats_test[i][this_label] = cnt_of_adjacent_labels\n",
    "\n",
    "    X_test_updated = np.concatenate((X_test,adj_feats_test),axis = 1)  \n",
    "\n",
    "    #learning the new model on updated feature matrix with adjacent labels\n",
    "    clf_updated = GaussianNB()\n",
    "    clf_updated.fit(X_train_updated,y_train)\n",
    "    #print(\"\\nStarting ICA Loop: ...\\n\")\n",
    "    #staring the ICA inference loop\n",
    "    loop_var = 0\n",
    "    iter_var = 0\n",
    "    y_pred_current = y_pred\n",
    "    while (loop_var == 0 and iter_var < 15):\n",
    "            y_pred_updated = clf_updated.predict(X_test_updated)\n",
    "            if(np.array_equal(y_pred_current, y_pred_updated)):\n",
    "                #algorithm stabilized\n",
    "                #print(\"ICA Stabilized\")\n",
    "                loop_var = 1        \n",
    "            else:\n",
    "                loop_var = 0\n",
    "                iter_var += 1\n",
    "                #print(\"ICA Loop: \"+str(iter_var))\n",
    "                \n",
    "                #updating the labels for test nodes with new predictions\n",
    "                for i in range(len(idx_test)):\n",
    "                    iter_labels_list[idx_test[i]] = y_pred_updated[i]\n",
    "                \n",
    "                #updating the adjacent features for test nodes\n",
    "                for i in range(len(idx_test)):\n",
    "                    adjs = list(g[idx_test[i]])\n",
    "                    adjs = [int(nei) for nei in adjs]\n",
    "                    labels_of_adjacent_nodes = [iter_labels_list[nei] for nei in adjs]\n",
    "\n",
    "                    for j in range(len(distinct_labels)):\n",
    "                        this_label = distinct_labels[j]\n",
    "                        cnt_of_adjacent_labels = labels_of_adjacent_nodes.count(this_label) ## Voting by neighbor nodes.\n",
    "                        adj_feats_test[i][this_label] = cnt_of_adjacent_labels\n",
    "                                        \n",
    "                X_test_updated = np.concatenate((X_test,adj_feats_test),axis = 1)\n",
    "                y_pred_current = y_pred_updated   \n",
    "    \n",
    "    #print('No. of iterations ICA ran: ',iter_var)            \n",
    "    final_predictions = y_pred_updated\n",
    "\n",
    "    #print('\\nMetrics for Iterative Classification Algorithm for train size {:.1f}:\\n'.format(1-k))\n",
    "    # ICA\n",
    "    # Macro\n",
    "    confusion_mat = confusion_matrix(y_test,y_pred_updated)\n",
    "    conf_mat_ICA_Labels.append(confusion_mat)\n",
    "\n",
    "    accuracy_list_ICA_Labels.append(metrics.accuracy_score(y_test,y_pred_updated))\n",
    "    precision_list_ICA_Labels.append(metrics.precision_score(y_test,y_pred_updated,average='macro',zero_division=0))\n",
    "    recall_list_ICA_Labels.append(metrics.recall_score(y_test,y_pred_updated,average='macro'))\n",
    "\n",
    "    # Micro\n",
    "    precision_list_ICA_Labels.append(metrics.precision_score(y_test,y_pred_updated,average='micro',zero_division=0))\n",
    "    recall_list_ICA_Labels.append(metrics.recall_score(y_test,y_pred_updated,average='micro'))\n"
   ]
  },
  {
   "cell_type": "code",
   "execution_count": 14,
   "metadata": {},
   "outputs": [
    {
     "name": "stdout",
     "output_type": "stream",
     "text": [
      "['0.74', '0.78', '0.80', '0.81']\n",
      "['0.74', '0.74', '0.78', '0.78', '0.80', '0.80', '0.81', '0.81']\n",
      "['0.74', '0.74', '0.78', '0.78', '0.79', '0.80', '0.80', '0.81']\n",
      "[array([[2665,  286,  547,   54],\n",
      "       [ 386, 2265,  438,  300],\n",
      "       [ 697,  475, 2831,  111],\n",
      "       [  44,  299,   62, 2621]], dtype=int64), array([[2476,  170,  184,   53],\n",
      "       [ 302, 1824,  201,  265],\n",
      "       [ 525,  251, 1866,  121],\n",
      "       [ 122,  128,   25, 2048]], dtype=int64), array([[1907,  107,   98,   39],\n",
      "       [ 173, 1112,   98,  191],\n",
      "       [ 333,  121, 1078,   98],\n",
      "       [  92,   75,   16, 1503]], dtype=int64), array([[1006,   65,   55,   21],\n",
      "       [  62,  536,   25,  104],\n",
      "       [ 162,   40,  505,   43],\n",
      "       [  52,   35,    6,  804]], dtype=int64)]\n"
     ]
    }
   ],
   "source": [
    "accuracy_list_ICA_Labels = [\"%.2f\" % elem for elem in accuracy_list_ICA_Labels]\n",
    "precision_list_ICA_Labels = [\"%.2f\" % elem for elem in precision_list_ICA_Labels]\n",
    "recall_list_ICA_Labels = [\"%.2f\" % elem for elem in recall_list_ICA_Labels]\n",
    "\n",
    "print(accuracy_list_ICA_Labels)\n",
    "print(precision_list_ICA_Labels)\n",
    "print(recall_list_ICA_Labels)\n",
    "print(conf_mat_ICA_Labels)"
   ]
  },
  {
   "cell_type": "markdown",
   "metadata": {},
   "source": [
    "### Model 2 : ICA - NB with Sum of Edge Weights "
   ]
  },
  {
   "cell_type": "code",
   "execution_count": 15,
   "metadata": {},
   "outputs": [
    {
     "name": "stdout",
     "output_type": "stream",
     "text": [
      "For test size:  0.8\n",
      "For test size:  0.6\n",
      "For test size:  0.4\n",
      "For test size:  0.2\n"
     ]
    }
   ],
   "source": [
    "testSize = [0.8,0.6,0.4,0.2]\n",
    "accuracy_list_ICA_EW= []\n",
    "precision_list_ICA_EW = []\n",
    "recall_list_ICA_EW = []\n",
    "conf_mat_ICA_EW = []\n",
    "\n",
    "feature_matrix = np.load('D:/NLP Project/Data/feature_matrix.npy')\n",
    "class_labels = np.load('D:/NLP Project/Data/class_lables.npy')\n",
    "indices = np.arange(len(feature_matrix))\n",
    "\n",
    "for k in testSize:\n",
    "    print('For test size: ',k)\n",
    "    X_train, X_test, y_train, y_test,idx_train,idx_test = train_test_split(feature_matrix, class_labels, indices,test_size=k, random_state=2, stratify=class_labels)\n",
    "    clf = GaussianNB()\n",
    "    clf.fit(X_train,y_train)\n",
    "    y_pred = clf.predict(X_test)\n",
    "    iter_labels = class_labels\n",
    "    np.put(iter_labels,idx_test,y_pred)  # updating labels of test data with the predecited labels \n",
    "    iter_labels_list = list(iter_labels)\n",
    "    distinct_labels = sorted(list(set(iter_labels_list)))\n",
    "\n",
    "    # ICA starting\n",
    "\n",
    "    adj_feats_train = np.zeros((len(X_train),len(distinct_labels)))\n",
    "    adj_feats_test  = np.zeros((len(X_test),len(distinct_labels)))\n",
    "\n",
    "    ########################################################################\n",
    "    ##constructing additional features, train and Iterate until stabilized##\n",
    "\n",
    "    #updating the adjancent features for training nodes\n",
    "    for i in range(len(idx_train)):\n",
    "        adjs = list(g[idx_train[i]])\n",
    "        adjs = [int(nei) for nei in adjs]\n",
    "        edge_weight_adj_nodes = [0]*len(distinct_labels)\n",
    "\n",
    "        for j in range(len(adjs)):\n",
    "            this_label = iter_labels_list[adjs[j]]\n",
    "            edge_weight_adj_nodes[this_label] +=  int(g[idx_train[i]][adjs[j]]['edge_weight'])/len(g[idx_train[i]])\n",
    "            adj_feats_train[i][this_label] = edge_weight_adj_nodes[this_label]\n",
    "        \n",
    "          \n",
    "    X_train_updated = np.concatenate((X_train,adj_feats_train),axis = 1)\n",
    "\n",
    "    #updating the adjancent features for test nodes\n",
    "    for i in range(len(idx_test)):\n",
    "        adjs = list(g[idx_test[i]])\n",
    "        adjs = [int(nei) for nei in adjs]\n",
    "        edge_weight_adj_nodes = [0]*len(distinct_labels)\n",
    "\n",
    "        for j in range(len(adjs)):\n",
    "            this_label = iter_labels_list[adjs[j]]\n",
    "            edge_weight_adj_nodes[this_label] +=  int(g[idx_test[i]][adjs[j]]['edge_weight'])/len(g[idx_test[i]])\n",
    "            adj_feats_test[i][this_label] = edge_weight_adj_nodes[this_label]\n",
    "\n",
    "    X_test_updated = np.concatenate((X_test,adj_feats_test),axis = 1)  \n",
    "\n",
    "    #learning the new model on updated feature matrix with adjacent labels\n",
    "    clf_updated = GaussianNB()\n",
    "    clf_updated.fit(X_train_updated,y_train)\n",
    "    #print(\"\\nStarting ICA Loop: ...\\n\")\n",
    "    #staring the ICA inference loop\n",
    "    loop_var = 0\n",
    "    iter_var = 0\n",
    "    y_pred_current = y_pred\n",
    "    while (loop_var == 0 and iter_var < 15):\n",
    "            y_pred_updated = clf_updated.predict(X_test_updated)\n",
    "            if(np.array_equal(y_pred_current, y_pred_updated)):\n",
    "                #algorithm stabilized\n",
    "                #print(\"ICA Stabilized\")\n",
    "                loop_var = 1        \n",
    "            else:\n",
    "                loop_var = 0\n",
    "                iter_var += 1\n",
    "                #print(\"ICA Loop: \"+str(iter_var))\n",
    "                \n",
    "                #updating the labels for test nodes with new predictions\n",
    "                for i in range(len(idx_test)):\n",
    "                    iter_labels_list[idx_test[i]] = y_pred_updated[i]\n",
    "                \n",
    "                #updating the adjancent features for test nodes\n",
    "                for i in range(len(idx_test)):\n",
    "                    adjs = list(g[idx_test[i]])\n",
    "                    adjs = [int(nei) for nei in adjs]\n",
    "                    edge_weight_adj_nodes = [0]*len(distinct_labels)\n",
    "    \n",
    "                    for j in range(len(adjs)):\n",
    "                        this_label = iter_labels_list[adjs[j]]\n",
    "                        edge_weight_adj_nodes[this_label] +=  int(g[idx_test[i]][adjs[j]]['edge_weight'])/len(g[idx_test[i]])\n",
    "                        adj_feats_test[i][this_label] = edge_weight_adj_nodes[this_label]     \n",
    "                    \n",
    "                X_test_updated = np.concatenate((X_test,adj_feats_test),axis = 1)\n",
    "                y_pred_current = y_pred_updated   \n",
    "    #print('No. of iterations ICA ran: ',iter_var)            \n",
    "    final_predictions = y_pred_updated\n",
    "\n",
    "    #print('ICA - Edge Weight Confusion matrix:\\n')\n",
    "    confusion_mat = confusion_matrix(y_test,y_pred_updated)\n",
    "    conf_mat_ICA_EW.append(confusion_mat)\n",
    "    #print(confusion_mat)\n",
    "\n",
    "    #print('\\nMetrics for Iterative Classification Algorithm for train size {:.1f}:\\n'.format(1-k))\n",
    "    # ICA\n",
    "    # Macro\n",
    "    accuracy_list_ICA_EW.append(metrics.accuracy_score(y_test,y_pred_updated))\n",
    "    precision_list_ICA_EW.append(metrics.precision_score(y_test,y_pred_updated,average='macro',zero_division=0))\n",
    "    recall_list_ICA_EW.append(metrics.recall_score(y_test,y_pred_updated,average='macro'))\n",
    "\n",
    "    # Micro\n",
    "    precision_list_ICA_EW.append(metrics.precision_score(y_test,y_pred_updated,average='micro',zero_division=0))\n",
    "    recall_list_ICA_EW.append(metrics.recall_score(y_test,y_pred_updated,average='micro'))\n"
   ]
  },
  {
   "cell_type": "code",
   "execution_count": 16,
   "metadata": {},
   "outputs": [
    {
     "name": "stdout",
     "output_type": "stream",
     "text": [
      "['0.66', '0.74', '0.82', '0.86']\n",
      "['0.66', '0.66', '0.74', '0.74', '0.83', '0.82', '0.87', '0.86']\n",
      "['0.66', '0.66', '0.74', '0.74', '0.81', '0.82', '0.84', '0.86']\n",
      "[array([[2390,  427,  588,  147],\n",
      "       [ 524, 2020,  457,  388],\n",
      "       [ 942,  603, 2404,  165],\n",
      "       [  61,  422,  127, 2416]], dtype=int64), array([[2407,  153,  196,  127],\n",
      "       [ 390, 1597,  218,  387],\n",
      "       [ 602,  278, 1748,  135],\n",
      "       [  56,  178,   72, 2017]], dtype=int64), array([[1980,   39,   56,   76],\n",
      "       [ 190, 1069,  105,  210],\n",
      "       [ 313,  113, 1126,   78],\n",
      "       [  27,   53,   16, 1590]], dtype=int64), array([[1093,   13,   13,   28],\n",
      "       [  64,  548,   17,   98],\n",
      "       [ 123,   59,  525,   43],\n",
      "       [  18,    6,    2,  871]], dtype=int64)]\n"
     ]
    }
   ],
   "source": [
    "accuracy_list_ICA_EW = [\"%.2f\" % elem for elem in accuracy_list_ICA_EW]\n",
    "precision_list_ICA_EW = [\"%.2f\" % elem for elem in precision_list_ICA_EW]\n",
    "recall_list_ICA_EW = [\"%.2f\" % elem for elem in recall_list_ICA_EW]\n",
    "\n",
    "print(accuracy_list_ICA_EW)\n",
    "print(precision_list_ICA_EW)\n",
    "print(recall_list_ICA_EW)\n",
    "print(conf_mat_ICA_EW)"
   ]
  },
  {
   "cell_type": "markdown",
   "metadata": {},
   "source": [
    "### Model 3 : ICA-NB with Combined Features"
   ]
  },
  {
   "cell_type": "code",
   "execution_count": 17,
   "metadata": {},
   "outputs": [
    {
     "name": "stdout",
     "output_type": "stream",
     "text": [
      "For test size:  0.8\n",
      "No. of iterations ICA ran:  2\n",
      "For test size:  0.6\n",
      "No. of iterations ICA ran:  2\n",
      "For test size:  0.4\n",
      "No. of iterations ICA ran:  1\n",
      "For test size:  0.2\n",
      "No. of iterations ICA ran:  1\n"
     ]
    }
   ],
   "source": [
    "testSize = [0.8,0.6,0.4,0.2]\n",
    "accuracy_list_ICA_Combined = []\n",
    "precision_list_ICA_Combined = []\n",
    "recall_list_ICA_Combined = []\n",
    "conf_matrix_ICA_Combined = []\n",
    "\n",
    "feature_matrix = np.load('D:/NLP Project/Data/feature_matrix.npy')\n",
    "class_labels = np.load('D:/NLP Project/Data/class_lables.npy')\n",
    "indices = np.arange(len(feature_matrix))\n",
    "\n",
    "for k in testSize:\n",
    "    print('For test size: ',k)\n",
    "    X_train, X_test, y_train, y_test,idx_train,idx_test = train_test_split(feature_matrix, class_labels, indices,test_size=k, random_state=2, stratify=class_labels)\n",
    "    clf = GaussianNB()\n",
    "    clf.fit(X_train,y_train)\n",
    "    y_pred = clf.predict(X_test)\n",
    "    iter_labels = class_labels\n",
    "    np.put(iter_labels,idx_test,y_pred)  # updating labels of test data with the predecited labels \n",
    "    iter_labels_list = list(iter_labels)\n",
    "    distinct_labels = sorted(list(set(iter_labels_list)))\n",
    "\n",
    "    # ICA starting\n",
    "\n",
    "    adj_feats_train = np.zeros((len(X_train),2*len(distinct_labels))) # Multiply by 2, since we have 8 additional features combined.\n",
    "    adj_feats_test  = np.zeros((len(X_test),2*len(distinct_labels)))\n",
    "\n",
    "    ########################################################################\n",
    "    ##constructing additional features, train and Iterate until stabilized##\n",
    "\n",
    "    #updating the adjancent features for training nodes\n",
    "    for i in range(len(idx_train)):       \n",
    "        adjs = list(g[idx_train[i]])\n",
    "        adjs = [int(nei) for nei in adjs]\n",
    "        edge_weight_adj_nodes = [0]*len(distinct_labels)\n",
    "        labels_of_adjacent_nodes = [iter_labels_list[nei] for nei in adjs]\n",
    "        \n",
    "        for j in range(len(adjs)):\n",
    "            this_label = iter_labels_list[adjs[j]]\n",
    "            edge_weight_adj_nodes[this_label] +=  int(g[idx_train[i]][adjs[j]]['edge_weight'])/len(g[idx_train[i]])\n",
    "            adj_feats_train[i][this_label] = edge_weight_adj_nodes[this_label]\n",
    "        \n",
    "        for k in range(len(distinct_labels)):\n",
    "            this_label = distinct_labels[k]\n",
    "            cnt_of_adjacent_labels = labels_of_adjacent_nodes.count(this_label) ## Voting by neighbor nodes.\n",
    "            adj_feats_train[i][this_label+len(distinct_labels)] = cnt_of_adjacent_labels\n",
    "          \n",
    "    X_train_updated = np.concatenate((X_train,adj_feats_train),axis = 1)\n",
    "\n",
    "    #updating the adjancent features for test nodes\n",
    "    for i in range(len(idx_test)):       \n",
    "        adjs = list(g[idx_test[i]])\n",
    "        adjs = [int(nei) for nei in adjs]\n",
    "        edge_weight_adj_nodes = [0]*len(distinct_labels)\n",
    "        labels_of_adjacent_nodes = [iter_labels_list[nei] for nei in adjs]\n",
    "        \n",
    "        for j in range(len(adjs)):\n",
    "            this_label = iter_labels_list[adjs[j]]\n",
    "            edge_weight_adj_nodes[this_label] +=  int(g[idx_test[i]][adjs[j]]['edge_weight'])/len(g[idx_test[i]])\n",
    "            adj_feats_test[i][this_label] = edge_weight_adj_nodes[this_label]\n",
    "        \n",
    "        for k in range(len(distinct_labels)):\n",
    "            this_label = distinct_labels[k]\n",
    "            cnt_of_adjacent_labels = labels_of_adjacent_nodes.count(this_label) ## Voting by neighbor nodes.\n",
    "            adj_feats_test[i][this_label+len(distinct_labels)] = cnt_of_adjacent_labels\n",
    "\n",
    "    X_test_updated = np.concatenate((X_test,adj_feats_test),axis = 1)  \n",
    "\n",
    "    #learning the new model on updated feature matrix with adjacent labels\n",
    "    clf_updated = GaussianNB()\n",
    "    clf_updated.fit(X_train_updated,y_train)\n",
    "    #print(\"\\nStarting ICA Loop: ...\\n\")\n",
    "    #staring the ICA inference loop\n",
    "    loop_var = 0\n",
    "    iter_var = 0\n",
    "    y_pred_current = y_pred\n",
    "    while (loop_var == 0 and iter_var < 15):\n",
    "            y_pred_updated = clf_updated.predict(X_test_updated)\n",
    "            if(np.array_equal(y_pred_current, y_pred_updated)):\n",
    "                #algorithm stabilized\n",
    "                #print(\"ICA Stabilized\")\n",
    "                loop_var = 1        \n",
    "            else:\n",
    "                loop_var = 0\n",
    "                iter_var += 1\n",
    "                #print(\"ICA Loop: \"+str(iter_var))\n",
    "                \n",
    "                #updating the labels for test nodes with new predictions\n",
    "                for i in range(len(idx_test)):\n",
    "                    iter_labels_list[idx_test[i]] = y_pred_updated[i]\n",
    "                \n",
    "                #updating the adjancent features for test nodes\n",
    "                for i in range(len(idx_test)):       \n",
    "                    adjs = list(g[idx_test[i]])\n",
    "                    adjs = [int(nei) for nei in adjs]\n",
    "                    edge_weight_adj_nodes = [0]*len(distinct_labels)\n",
    "                    labels_of_adjacent_nodes = [iter_labels_list[nei] for nei in adjs]\n",
    "                    \n",
    "                    for j in range(len(adjs)):\n",
    "                        this_label = iter_labels_list[adjs[j]]\n",
    "                        edge_weight_adj_nodes[this_label] +=  int(g[idx_test[i]][adjs[j]]['edge_weight'])/len(g[idx_test[i]])\n",
    "                        adj_feats_test[i][this_label] = edge_weight_adj_nodes[this_label]\n",
    "                    \n",
    "                    for k in range(len(distinct_labels)):\n",
    "                        this_label = distinct_labels[k]\n",
    "                        cnt_of_adjacent_labels = labels_of_adjacent_nodes.count(this_label) ## Voting by neighbor nodes.\n",
    "                        adj_feats_test[i][this_label+len(distinct_labels)] = cnt_of_adjacent_labels       \n",
    "                                \n",
    "                X_test_updated = np.concatenate((X_test,adj_feats_test),axis = 1)\n",
    "                y_pred_current = y_pred_updated   \n",
    "    print('No. of iterations ICA ran: ',iter_var)            \n",
    "    final_predictions = y_pred_updated\n",
    "\n",
    "    #print('ICA - Edge Weight Confusion matrix:\\n')\n",
    "    confusion_mat = confusion_matrix(y_test,y_pred_updated)\n",
    "    conf_matrix_ICA_Combined.append(confusion_mat)\n",
    "    #print(confusion_mat)\n",
    "\n",
    "    #print('\\nMetrics for Iterative Classification Algorithm for train size {:.1f}:\\n'.format(1-k))\n",
    "    # ICA\n",
    "    # Macro\n",
    "    accuracy_list_ICA_Combined.append(metrics.accuracy_score(y_test,y_pred_updated))\n",
    "    precision_list_ICA_Combined.append(metrics.precision_score(y_test,y_pred_updated,average='macro',zero_division=0))\n",
    "    recall_list_ICA_Combined.append(metrics.recall_score(y_test,y_pred_updated,average='macro'))\n",
    "\n",
    "    # Micro\n",
    "    precision_list_ICA_Combined.append(metrics.precision_score(y_test,y_pred_updated,average='micro',zero_division=0))\n",
    "    recall_list_ICA_Combined.append(metrics.recall_score(y_test,y_pred_updated,average='micro'))\n"
   ]
  },
  {
   "cell_type": "code",
   "execution_count": 18,
   "metadata": {},
   "outputs": [
    {
     "name": "stdout",
     "output_type": "stream",
     "text": [
      "['0.74', '0.78', '0.80', '0.81']\n",
      "['0.74', '0.74', '0.78', '0.78', '0.80', '0.80', '0.81', '0.81']\n",
      "['0.74', '0.74', '0.78', '0.78', '0.79', '0.80', '0.80', '0.81']\n",
      "[array([[2666,  286,  546,   54],\n",
      "       [ 385, 2266,  438,  300],\n",
      "       [ 697,  475, 2831,  111],\n",
      "       [  43,  300,   62, 2621]], dtype=int64), array([[2474,  171,  185,   53],\n",
      "       [ 303, 1822,  201,  266],\n",
      "       [ 524,  251, 1867,  121],\n",
      "       [ 122,  128,   25, 2048]], dtype=int64), array([[1907,  107,   98,   39],\n",
      "       [ 173, 1113,   98,  190],\n",
      "       [ 333,  122, 1077,   98],\n",
      "       [  93,   75,   16, 1502]], dtype=int64), array([[1004,   67,   55,   21],\n",
      "       [  62,  537,   24,  104],\n",
      "       [ 163,   41,  504,   42],\n",
      "       [  53,   35,    6,  803]], dtype=int64)]\n"
     ]
    }
   ],
   "source": [
    "accuracy_list_ICA_Combined = [\"%.2f\" % elem for elem in accuracy_list_ICA_Combined]\n",
    "precision_list_ICA_Combined = [\"%.2f\" % elem for elem in precision_list_ICA_Combined]\n",
    "recall_list_ICA_Combined = [\"%.2f\" % elem for elem in recall_list_ICA_Combined]\n",
    "\n",
    "print(accuracy_list_ICA_Combined)\n",
    "print(precision_list_ICA_Combined)\n",
    "print(recall_list_ICA_Combined)\n",
    "print(conf_matrix_ICA_Combined)"
   ]
  }
 ],
 "metadata": {
  "kernelspec": {
   "display_name": "Python 3.8.8 ('base')",
   "language": "python",
   "name": "python3"
  },
  "language_info": {
   "codemirror_mode": {
    "name": "ipython",
    "version": 3
   },
   "file_extension": ".py",
   "mimetype": "text/x-python",
   "name": "python",
   "nbconvert_exporter": "python",
   "pygments_lexer": "ipython3",
   "version": "3.8.8"
  },
  "orig_nbformat": 4,
  "vscode": {
   "interpreter": {
    "hash": "5179d32cf6ec497baf3f8a3ef987cc77c5d2dc691fdde20a56316522f61a7323"
   }
  }
 },
 "nbformat": 4,
 "nbformat_minor": 2
}
